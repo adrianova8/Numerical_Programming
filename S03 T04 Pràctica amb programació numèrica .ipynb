{
 "cells": [
  {
   "cell_type": "markdown",
   "id": "299012f8",
   "metadata": {},
   "source": [
    "# **Exercise 1**"
   ]
  },
  {
   "cell_type": "markdown",
   "id": "eeead24f",
   "metadata": {},
   "source": [
    "**STATEMENT:** Create a function that given an Array of a dimension, gives you a basic statistical summary of the data. If it detects that the array has more than one dimension, it should display an error message."
   ]
  },
  {
   "cell_type": "code",
   "execution_count": 6,
   "id": "151745ef",
   "metadata": {},
   "outputs": [
    {
     "name": "stdout",
     "output_type": "stream",
     "text": [
      "[34 23 43 48 29 27 17  5 93 27] \n",
      "\n",
      "Descriptive Statistics:\n",
      " Mean: 34.6, Median: 28.0, Mode: 27, Sum: 346, Max Value: 93, Min Value: 5, SD: 22.65, Corr Coef: 1.0\n"
     ]
    }
   ],
   "source": [
    "import numpy as np\n",
    "import random \n",
    "import statistics as stats\n",
    "\n",
    "random_list=np.array([random.randint(0,100) for i in range(10)]) #1dim\n",
    "print(random_list,\"\\n\")\n",
    "\n",
    "def statisticalSummaryOfArray(array):\n",
    "    \n",
    "    if array.ndim==1:\n",
    "        mean=np.mean(array)  #Calculate mean\n",
    "        median=np.median(array) #Calculate median\n",
    "        mode=stats.mode(array) #Calculate mode\n",
    "        sum_values=array.sum() #Sum of the values of an array\n",
    "        max_value=array.max() #Calculate maximum value\n",
    "        min_value=array.min() #Calculate the minimum value\n",
    "        standard_desviation=np.std(array) #Calculate standard deviation\n",
    "        corre_coef=np.corrcoef(array) #Correlation coeficient of an array \n",
    "        print(\"Descriptive Statistics:\\n Mean: {}, Median: {}, Mode: {}, Sum: {}, Max Value: {}, Min Value: {}, SD: {:.2f}, Corr Coef: {}\"\n",
    "             .format(mean,median,mode,sum_values,max_value,min_value,standard_desviation,corre_coef))\n",
    "    else:\n",
    "        print(\"The dimension of the array is different from 1\")\n",
    "        \n",
    "statisticalSummaryOfArray(random_list)\n"
   ]
  },
  {
   "cell_type": "markdown",
   "id": "4df4fee2",
   "metadata": {},
   "source": [
    "# **EXERCISE 2**"
   ]
  },
  {
   "cell_type": "markdown",
   "id": "e8e4284c",
   "metadata": {},
   "source": [
    "**STATEMENT:** Create a function that generates an NxN square of random numbers between 0 and 100."
   ]
  },
  {
   "cell_type": "code",
   "execution_count": 322,
   "id": "25293b77",
   "metadata": {},
   "outputs": [
    {
     "name": "stdout",
     "output_type": "stream",
     "text": [
      "Introduce a number: \n",
      "5\n",
      "The array 5 x 5 is: \n",
      "\n"
     ]
    },
    {
     "data": {
      "text/plain": [
       "[[44, 72, 32, 97, 32],\n",
       " [11, 20, 13, 52, 69],\n",
       " [8, 44, 76, 71, 84],\n",
       " [48, 68, 15, 69, 3],\n",
       " [34, 6, 94, 33, 45]]"
      ]
     },
     "execution_count": 322,
     "metadata": {},
     "output_type": "execute_result"
    }
   ],
   "source": [
    "from random import randint\n",
    "\n",
    "user_number=int(input(\"Introduce a number: \\n\"))\n",
    "\n",
    "def array5x5(number):\n",
    "    array=[] #Create an empty array\n",
    "    \n",
    "    for i in range(number): #We will fill the whole array with the number introduced by the user\n",
    "        row=[] #Create an empty row\n",
    "        for j in range(number):\n",
    "            row.append(randint(0,100)) #For each row we will fill it with the number given by the user \n",
    "        array.append(row) \n",
    "    \n",
    "    return array\n",
    "\n",
    "print(\"The array\",user_number,\"x\",user_number,\"is: \\n\")\n",
    "array5x5(user_number)\n"
   ]
  },
  {
   "cell_type": "markdown",
   "id": "c9044b2e",
   "metadata": {},
   "source": [
    "# **Exercise 3**"
   ]
  },
  {
   "cell_type": "markdown",
   "id": "65230285",
   "metadata": {},
   "source": [
    "**STATEMENT:** Create a function that donated a table of two dimensions, and calculated the totals per row and the totals per column."
   ]
  },
  {
   "cell_type": "code",
   "execution_count": 18,
   "id": "f40e1c02",
   "metadata": {},
   "outputs": [
    {
     "name": "stdout",
     "output_type": "stream",
     "text": [
      "[[74 36 26 36  3]\n",
      " [46 99 13 21 66]\n",
      " [62 44  7  7  4]\n",
      " [20 10 81 71 90]\n",
      " [44 59  4 88 66]]\n",
      "The totals per column:\n",
      " [246 248 131 223 229]\n",
      "The totals per row:\n",
      " [175 245 124 272 261]\n"
     ]
    }
   ],
   "source": [
    "import random\n",
    "\n",
    "# 2-D random matrix \n",
    "random_matrix= np.random.randint(100, size=(5,5))\n",
    "print(random_matrix)\n",
    "\n",
    "#We will calculate the totalas per row and totals per column\n",
    "def sumRowsAndColumns(random_matrix):\n",
    "    sum_of_columns=np.sum(random_matrix, axis=0)\n",
    "    sum_of_rows=np.sum(random_matrix, axis=1)\n",
    "    print(\"The totals per column:\\n\",sum_of_columns)\n",
    "    print(\"The totals per row:\\n\",sum_of_rows)\n",
    "\n",
    "sumRowsAndColumns(random_matrix)"
   ]
  },
  {
   "cell_type": "markdown",
   "id": "706b8722",
   "metadata": {},
   "source": [
    "# **EXERCISE 4**"
   ]
  },
  {
   "cell_type": "markdown",
   "id": "264b92e1",
   "metadata": {},
   "source": [
    "**STATEMENT:** Manually implements a function that calculates the correlation coefficient. Learn about its uses and interpretation."
   ]
  },
  {
   "cell_type": "code",
   "execution_count": 43,
   "id": "85b323fe",
   "metadata": {},
   "outputs": [
    {
     "name": "stdout",
     "output_type": "stream",
     "text": [
      "[[0.49159892 0.23439952 0.06760776]\n",
      " [0.7128582  0.8131152  0.54833668]\n",
      " [0.6343088  0.16919992 0.55433175]]\n",
      "\n",
      "The coeficients of correlation are:\n",
      " [[ 1.          0.51441827  0.28019446]\n",
      " [ 0.51441827  1.         -0.67905203]\n",
      " [ 0.28019446 -0.67905203  1.        ]]\n"
     ]
    }
   ],
   "source": [
    "#Target: find the correlation of a matrix\n",
    "\n",
    "rng=np.random.default_rng(seed=26) #seed () is used to set the seed for the Python pseudo-random number generator algorithm.\n",
    "random_array=rng.random((3,3))\n",
    "print(random_array)\n",
    "\n",
    "#We want to calculate the random_array's correlation \n",
    "\n",
    "def correlationCoeficient(array):\n",
    "    correlation=np.corrcoef(array) \n",
    "    \n",
    "    return correlation\n",
    "\n",
    "print(\"\\nThe coeficients of correlation are:\\n\",correlationCoeficient(random_array))\n"
   ]
  },
  {
   "cell_type": "markdown",
   "id": "04f19f04",
   "metadata": {},
   "source": [
    "**We can access to a concrete matrix of correlations and explain the meaning**\n",
    "\n",
    " - **Explanation:** If we access to 1st column and 3rd column we can say that the coefficients of correlations are the next ones. That means the 2nd row and 1st column have a strong correlation with 0,932. For example, if Y were school dropout and X were students with worst marks, the countries with high levels of students with worst marks have at the same time high levels of school dropouts. The contrary explanation for those countries with low levels of bad students.\n",
    "\n"
   ]
  },
  {
   "cell_type": "code",
   "execution_count": 61,
   "id": "6e68ba4d",
   "metadata": {},
   "outputs": [
    {
     "name": "stdout",
     "output_type": "stream",
     "text": [
      "[[1.         0.93288652]\n",
      " [0.93288652 1.        ]]\n"
     ]
    },
    {
     "data": {
      "text/plain": [
       "0.9328865224496595"
      ]
     },
     "execution_count": 61,
     "metadata": {},
     "output_type": "execute_result"
    }
   ],
   "source": [
    "print(np.corrcoef(random_array[:,0],random_array[:,2]))\n",
    "np.corrcoef(random_array[:,0],random_array[:,2])[1,0] #1 is 2nd row and 0 1st column\n"
   ]
  },
  {
   "cell_type": "markdown",
   "id": "e0b9c36d",
   "metadata": {},
   "source": [
    "\n",
    "## **Exercise Correction**"
   ]
  },
  {
   "cell_type": "code",
   "execution_count": 13,
   "id": "b1565f1f",
   "metadata": {},
   "outputs": [
    {
     "name": "stdout",
     "output_type": "stream",
     "text": [
      "Week correlation\n",
      "Corr_coefficient=0.44629\n"
     ]
    }
   ],
   "source": [
    "#corrcoef: direct scoring\n",
    "\n",
    "def correlation(n): #n -> sample size\n",
    "    x=np.random.randn(n)\n",
    "    y=np.random.randn(n)\n",
    "    \n",
    "    #Arithmetic means\n",
    "    x_mean=np.mean(x)\n",
    "    y_mean=np.mean(y)\n",
    "    \n",
    "    #Covariance [(x*y)/n]- x_mean*y_mean\n",
    "    cov=np.sum(x*y)/n-x_mean*y_mean\n",
    "    \n",
    "    #Typical deviation\n",
    "    xsd=np.sqrt(np.sum(x**2)/n-(x_mean)**2)\n",
    "    ysd=np.sqrt(np.sum(y**2)/n-(y_mean)**2)\n",
    "    \n",
    "    #Coefficient\n",
    "    r=cov/(xsd*ysd)\n",
    "    \n",
    "    #Intensity of correlation coefficient\n",
    "    if r>0.7 or r<-0.7: print(\"Strong correlation\")\n",
    "    elif r<0.7 and r>=0.5 or r>-0.7 and r<= -0.5: print(\"Moderate Correlation\")\n",
    "    else: print(\"Week correlation\")\n",
    "        \n",
    "    return f'Corr_coefficient={r:.5f}'\n",
    "\n",
    "print(correlation(5))"
   ]
  },
  {
   "cell_type": "code",
   "execution_count": 25,
   "id": "ac8fbf05",
   "metadata": {},
   "outputs": [
    {
     "name": "stdout",
     "output_type": "stream",
     "text": [
      "Correlation coefficient = 0.23641\n"
     ]
    }
   ],
   "source": [
    "#Other methodology\n",
    "\n",
    "w=np.random.rand(10)\n",
    "z=np.random.rand(10)\n",
    "\n",
    "def correlationPearson(w,z):\n",
    "    #Mean\n",
    "    w-=w.mean()\n",
    "    z-=z.mean()\n",
    "    #Mean/std\n",
    "    w/=w.std()\n",
    "    z/=z.std()\n",
    "    \n",
    "    return f'Correlation coefficient = {np.mean(w*z):.5f}'\n",
    "\n",
    "print(correlationPearson(w,z))"
   ]
  },
  {
   "cell_type": "code",
   "execution_count": null,
   "id": "699dbbac",
   "metadata": {},
   "outputs": [],
   "source": []
  }
 ],
 "metadata": {
  "kernelspec": {
   "display_name": "Python 3",
   "language": "python",
   "name": "python3"
  },
  "language_info": {
   "codemirror_mode": {
    "name": "ipython",
    "version": 3
   },
   "file_extension": ".py",
   "mimetype": "text/x-python",
   "name": "python",
   "nbconvert_exporter": "python",
   "pygments_lexer": "ipython3",
   "version": "3.8.8"
  },
  "toc": {
   "base_numbering": 1,
   "nav_menu": {},
   "number_sections": false,
   "sideBar": true,
   "skip_h1_title": false,
   "title_cell": "Table of Contents",
   "title_sidebar": "Contents",
   "toc_cell": false,
   "toc_position": {
    "height": "451.2px",
    "left": "215px",
    "top": "175px",
    "width": "212px"
   },
   "toc_section_display": true,
   "toc_window_display": true
  }
 },
 "nbformat": 4,
 "nbformat_minor": 5
}
